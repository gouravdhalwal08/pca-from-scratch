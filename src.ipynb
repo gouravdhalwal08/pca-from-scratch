{
 "cells": [
  {
   "cell_type": "code",
   "execution_count": 1,
   "metadata": {},
   "outputs": [],
   "source": [
    "import numpy as np\n",
    "import pandas as pd"
   ]
  },
  {
   "cell_type": "code",
   "execution_count": 2,
   "metadata": {},
   "outputs": [],
   "source": [
    "np.random.seed(43)\n",
    "feature_1 = np.random.randn(100)\n",
    "feature_2 = feature_1 + np.random.normal(0, 0.3, 100)\n",
    "feature_3 = np.random.randn(100)\n",
    "feature_4 = feature_3 + np.random.normal(0, 0.3, 100)\n",
    "labels = np.random.randint(0, 2, 100)\n",
    "\n",
    "data = np.column_stack((feature_1, feature_2, feature_3, feature_4, labels))\n",
    "dataset = pd.DataFrame(data, columns=['Feature_1', 'Feature_2', 'Feature_3', 'Feature_4', 'Label'])"
   ]
  },
  {
   "cell_type": "code",
   "execution_count": 3,
   "metadata": {},
   "outputs": [],
   "source": [
    "training_data = dataset.drop(columns=['Label']).T  \n",
    "X_transpose = np.array(training_data)"
   ]
  },
  {
   "cell_type": "code",
   "execution_count": 4,
   "metadata": {},
   "outputs": [],
   "source": [
    "mean = np.mean(X_transpose, axis=1, keepdims=True)\n",
    "X_bar_transpose = X_transpose - mean\n",
    "X_bar = X_bar_transpose.T \n",
    "\n",
    "N_train = X_bar.shape[0]  \n",
    "sigma = (1 / N_train) * (X_bar.T @ X_bar)"
   ]
  },
  {
   "cell_type": "code",
   "execution_count": 5,
   "metadata": {},
   "outputs": [],
   "source": [
    "factorial_sigma = np.linalg.svd(sigma)\n",
    "Q_transpose = factorial_sigma[0]  \n",
    "Lambda = factorial_sigma[1]       \n",
    "Q = Q_transpose.T                 \n",
    "\n",
    "Z = np.matmul(Q, X_bar.T) \n",
    "projected_training_data = pd.DataFrame(Z.T, columns=[f\"z{i+1}\" for i in range(Z.shape[0])])"
   ]
  },
  {
   "cell_type": "code",
   "execution_count": 6,
   "metadata": {},
   "outputs": [
    {
     "name": "stdout",
     "output_type": "stream",
     "text": [
      "Covariance Matrix of Projected Data (Diagonal):\n",
      "              z1            z2            z3            z4\n",
      "z1  1.959330e+00 -7.445534e-17 -1.076415e-16 -1.649164e-16\n",
      "z2 -7.445534e-17  1.630722e+00  2.313573e-16  1.021755e-16\n",
      "z3 -1.076415e-16  2.313573e-16  5.302049e-02  1.959113e-17\n",
      "z4 -1.649164e-16  1.021755e-16  1.959113e-17  4.289177e-02\n"
     ]
    }
   ],
   "source": [
    "D = projected_training_data.cov()\n",
    "print(\"Covariance Matrix of Projected Data (Diagonal):\")\n",
    "print(D)\n",
    "\n"
   ]
  },
  {
   "cell_type": "code",
   "execution_count": 7,
   "metadata": {},
   "outputs": [
    {
     "name": "stdout",
     "output_type": "stream",
     "text": [
      "\n",
      "Number of Principal Components to Preserve 90.0% Variance: 2\n",
      "\n",
      "Dimensionality Reduced Data:\n",
      "         z1        z2\n",
      "0  1.658738  2.722516\n",
      "1  1.948602 -0.356228\n",
      "2 -0.242274 -1.239757\n",
      "3 -0.803788 -2.041109\n",
      "4 -0.759298  0.609399\n"
     ]
    }
   ],
   "source": [
    "total_variance = np.sum(Lambda)\n",
    "var_sum = 0\n",
    "preserved_variance_percentage = 0.9  \n",
    "num_components = 0\n",
    "\n",
    "for i in range(Lambda.shape[0]):\n",
    "    var_sum += Lambda[i]\n",
    "    num_components += 1\n",
    "    if var_sum / total_variance >= preserved_variance_percentage:\n",
    "        break\n",
    "\n",
    "print(f\"\\nNumber of Principal Components to Preserve {preserved_variance_percentage * 100}% Variance: {num_components}\")\n",
    "\n",
    "Z_dim_reduced = projected_training_data.iloc[:, :num_components]\n",
    "print(\"\\nDimensionality Reduced Data:\")\n",
    "print(Z_dim_reduced.head())\n"
   ]
  },
  {
   "cell_type": "code",
   "execution_count": null,
   "metadata": {},
   "outputs": [],
   "source": []
  }
 ],
 "metadata": {
  "kernelspec": {
   "display_name": ".venv",
   "language": "python",
   "name": "python3"
  },
  "language_info": {
   "codemirror_mode": {
    "name": "ipython",
    "version": 3
   },
   "file_extension": ".py",
   "mimetype": "text/x-python",
   "name": "python",
   "nbconvert_exporter": "python",
   "pygments_lexer": "ipython3",
   "version": "3.10.12"
  }
 },
 "nbformat": 4,
 "nbformat_minor": 2
}
